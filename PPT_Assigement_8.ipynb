{
  "nbformat": 4,
  "nbformat_minor": 0,
  "metadata": {
    "colab": {
      "provenance": [],
      "authorship_tag": "ABX9TyNhrCqNF3B2Q5GUi6+euu+r",
      "include_colab_link": true
    },
    "kernelspec": {
      "name": "python3",
      "display_name": "Python 3"
    },
    "language_info": {
      "name": "python"
    }
  },
  "cells": [
    {
      "cell_type": "markdown",
      "metadata": {
        "id": "view-in-github",
        "colab_type": "text"
      },
      "source": [
        "<a href=\"https://colab.research.google.com/github/Vaibhav074N/PPT-Assigement-8/blob/main/PPT_Assigement_8.ipynb\" target=\"_parent\"><img src=\"https://colab.research.google.com/assets/colab-badge.svg\" alt=\"Open In Colab\"/></a>"
      ]
    },
    {
      "cell_type": "markdown",
      "source": [
        "<aside>\n",
        "💡 **Question 1**\n",
        "\n",
        "Given two strings s1 and s2, return *the lowest **ASCII** sum of deleted characters to make two strings equal*.\n",
        "\n",
        "**Example 1:**\n",
        "\n",
        "**Input:** s1 = \"sea\", s2 = \"eat\"\n",
        "\n",
        "**Output:** 231\n",
        "\n",
        "**Explanation:** Deleting \"s\" from \"sea\" adds the ASCII value of \"s\" (115) to the sum.\n",
        "\n",
        "Deleting \"t\" from \"eat\" adds 116 to the sum.\n",
        "\n",
        "At the end, both strings are equal, and 115 + 116 = 231 is the minimum sum possible to achieve this\n",
        "\n",
        "</aside>"
      ],
      "metadata": {
        "id": "cSBocbiKNpNn"
      }
    },
    {
      "cell_type": "code",
      "execution_count": null,
      "metadata": {
        "id": "KIb6u_OMNid9",
        "colab": {
          "base_uri": "https://localhost:8080/"
        },
        "outputId": "29379fd5-af3e-4bda-f046-b6a6e955b36c"
      },
      "outputs": [
        {
          "output_type": "stream",
          "name": "stdout",
          "text": [
            "231\n"
          ]
        }
      ],
      "source": [
        "def minimumDeleteSum(s1, s2):\n",
        "    m, n = len(s1), len(s2)\n",
        "\n",
        "    dp = [0] * (n + 1)\n",
        "\n",
        "    for j in range(1, n + 1):\n",
        "        dp[j] = dp[j - 1] + ord(s2[j - 1])\n",
        "\n",
        "    for i in range(1, m + 1):\n",
        "        prev = dp[0]\n",
        "        dp[0] += ord(s1[i - 1])\n",
        "        for j in range(1, n + 1):\n",
        "            curr = dp[j]\n",
        "            if s1[i - 1] == s2[j - 1]:\n",
        "                dp[j] = prev\n",
        "            else:\n",
        "                dp[j] = min(dp[j] + ord(s1[i - 1]), dp[j - 1] + ord(s2[j - 1]))\n",
        "            prev = curr\n",
        "    return dp[n]\n",
        "\n",
        "s1 = \"sea\"\n",
        "s2 = \"eat\"\n",
        "print(minimumDeleteSum(s1, s2))"
      ]
    },
    {
      "cell_type": "code",
      "source": [],
      "metadata": {
        "id": "B3jmrBvDehEE"
      },
      "execution_count": null,
      "outputs": []
    },
    {
      "cell_type": "markdown",
      "source": [
        "<aside>\n",
        "💡 **Question 2**\n",
        "\n",
        "Given a string s containing only three types of characters: '(', ')' and '*', return true *if* s *is **valid***.\n",
        "\n",
        "The following rules define a **valid** string:\n",
        "\n",
        "- Any left parenthesis '(' must have a corresponding right parenthesis ')'.\n",
        "- Any right parenthesis ')' must have a corresponding left parenthesis '('.\n",
        "- Left parenthesis '(' must go before the corresponding right parenthesis ')'.\n",
        "- '*' could be treated as a single right parenthesis ')' or a single left parenthesis '(' or an empty string \"\".\n",
        "\n",
        "**Example 1:**\n",
        "\n",
        "**Input:** s = \"()\"\n",
        "\n",
        "**Output:**\n",
        "\n",
        "true\n",
        "\n",
        "</aside>"
      ],
      "metadata": {
        "id": "p39R-LU8NqUN"
      }
    },
    {
      "cell_type": "code",
      "source": [
        "def isValid(s):\n",
        "    stack = []\n",
        "    star_stack = []\n",
        "\n",
        "    for i, char in enumerate(s):\n",
        "        if char == '(':\n",
        "            stack.append(i)\n",
        "        elif char == '*':\n",
        "            star_stack.append(i)\n",
        "        else:\n",
        "            if stack:\n",
        "                stack.pop()\n",
        "            elif star_stack:\n",
        "                star_stack.pop()\n",
        "            else:\n",
        "                return False\n",
        "\n",
        "    while stack and star_stack:\n",
        "        if stack[-1] > star_stack[-1]:\n",
        "            return False\n",
        "        stack.pop()\n",
        "        star_stack.pop()\n",
        "\n",
        "    return len(stack) == 0\n",
        "\n",
        "s = \"()\"\n",
        "print(isValid(s))"
      ],
      "metadata": {
        "id": "gbFSC1r4NpnR",
        "colab": {
          "base_uri": "https://localhost:8080/"
        },
        "outputId": "a4e8d785-14b9-46fd-a2fd-aab7693dd70e"
      },
      "execution_count": null,
      "outputs": [
        {
          "output_type": "stream",
          "name": "stdout",
          "text": [
            "True\n"
          ]
        }
      ]
    },
    {
      "cell_type": "code",
      "source": [],
      "metadata": {
        "id": "bwbtballfFMS"
      },
      "execution_count": null,
      "outputs": []
    },
    {
      "cell_type": "markdown",
      "source": [
        "<aside>\n",
        "💡 **Question 3**\n",
        "\n",
        "Given two strings word1 and word2, return *the minimum number of **steps** required to make* word1 *and* word2 *the same*.\n",
        "\n",
        "In one **step**, you can delete exactly one character in either string.\n",
        "\n",
        "**Example 1:**\n",
        "\n",
        "**Input:** word1 = \"sea\", word2 = \"eat\"\n",
        "\n",
        "**Output:** 2\n",
        "\n",
        "**Explanation:** You need one step to make \"sea\" to \"ea\" and another step to make \"eat\" to \"ea\".\n",
        "\n",
        "</aside>"
      ],
      "metadata": {
        "id": "FCDYzrOFNrRg"
      }
    },
    {
      "cell_type": "code",
      "source": [
        "def min_word(w1,w2):\n",
        "  ans1=[]\n",
        "  ans2=[]\n",
        "  for i in w2:\n",
        "    if i in w1:\n",
        "      ans1.append(i)\n",
        "      ans2.append(i)\n",
        "\n",
        "    res1=''.join(ans1)\n",
        "    res2=''.join(ans2)\n",
        "\n",
        "  if len(res1)==len(res2):\n",
        "    return len(res2)\n",
        "\n",
        "word1 = \"sea\"\n",
        "word2 = \"eat\"\n",
        "print(min_word(word1,word2))"
      ],
      "metadata": {
        "id": "LAflR6yANq1W",
        "colab": {
          "base_uri": "https://localhost:8080/"
        },
        "outputId": "1f9207a4-7b19-472c-e795-dc58066507ef"
      },
      "execution_count": null,
      "outputs": [
        {
          "output_type": "stream",
          "name": "stdout",
          "text": [
            "2\n"
          ]
        }
      ]
    },
    {
      "cell_type": "markdown",
      "source": [
        "<aside>\n",
        "💡 **Question 4**\n",
        "\n",
        "You need to construct a binary tree from a string consisting of parenthesis and integers.\n",
        "\n",
        "The whole input represents a binary tree. It contains an integer followed by zero, one or two pairs of parenthesis. The integer represents the root's value and a pair of parenthesis contains a child binary tree with the same structure.\n",
        "You always start to construct the **left** child node of the parent first if it exists.\n",
        "\n",
        "![Screenshot 2023-05-29 010548.png](https://s3-us-west-2.amazonaws.com/secure.notion-static.com/bdbea2d1-34a4-4c4b-a450-ea6db7410c43/Screenshot_2023-05-29_010548.png)\n",
        "\n",
        "**Input:** s = \"4(2(3)(1))(6(5))\"\n",
        "\n",
        "**Output:** [4,2,6,3,1,5]\n",
        "\n",
        "</aside>"
      ],
      "metadata": {
        "id": "o3ePCiM-Ns2A"
      }
    },
    {
      "cell_type": "code",
      "source": [
        "class TreeNode:\n",
        "    def __init__(self, val=0, left=None, right=None):\n",
        "        self.val = val\n",
        "        self.left = left\n",
        "        self.right = right\n",
        "\n",
        "\n",
        "def str2tree(s):\n",
        "    def construct_tree(s, start, end):\n",
        "        if start > end:\n",
        "            return None\n",
        "\n",
        "        i = start\n",
        "        while i <= end and (s[i].isdigit() or s[i] == '-'):\n",
        "            i += 1\n",
        "        root_val = int(s[start:i])\n",
        "\n",
        "        root = TreeNode(root_val)\n",
        "\n",
        "        if i <= end:\n",
        "            count = 0\n",
        "            j = i\n",
        "\n",
        "            while j <= end:\n",
        "                if s[j] == '(':\n",
        "                    count += 1\n",
        "                elif s[j] == ')':\n",
        "                    count -= 1\n",
        "\n",
        "                if count == 0:\n",
        "                    break\n",
        "\n",
        "                j += 1\n",
        "\n",
        "            root.left = construct_tree(s, i + 1, j - 1)\n",
        "\n",
        "            if j + 1 <= end:\n",
        "                root.right = construct_tree(s, j + 2, end - 1)\n",
        "\n",
        "        return root\n",
        "\n",
        "    return construct_tree(s, 0, len(s) - 1)\n",
        "\n",
        "def inorder_traversal(root):\n",
        "    if not root:\n",
        "        return []\n",
        "    return inorder_traversal(root.left) + [root.val] + inorder_traversal(root.right)\n",
        "\n",
        "s = \"4(2(3)(1))(6(5))\"\n",
        "root = str2tree(s)\n",
        "output = inorder_traversal(root)\n",
        "print(output)"
      ],
      "metadata": {
        "colab": {
          "base_uri": "https://localhost:8080/"
        },
        "id": "1Yk-Qkygto33",
        "outputId": "6e436e29-5ae4-4166-b9fd-94e764348cf3"
      },
      "execution_count": null,
      "outputs": [
        {
          "output_type": "stream",
          "name": "stdout",
          "text": [
            "[3, 2, 1, 4, 5, 6]\n"
          ]
        }
      ]
    },
    {
      "cell_type": "code",
      "source": [],
      "metadata": {
        "id": "GnCqfOqNref4"
      },
      "execution_count": null,
      "outputs": []
    },
    {
      "cell_type": "markdown",
      "source": [
        "<aside>\n",
        "💡 **Question 5**\n",
        "\n",
        "Given an array of characters chars, compress it using the following algorithm:\n",
        "\n",
        "Begin with an empty string s. For each group of **consecutive repeating characters** in chars:\n",
        "\n",
        "- If the group's length is 1, append the character to s.\n",
        "- Otherwise, append the character followed by the group's length.\n",
        "\n",
        "The compressed string s **should not be returned separately**, but instead, be stored **in the input character array chars**. Note that group lengths that are 10 or longer will be split into multiple characters in chars.\n",
        "\n",
        "After you are done **modifying the input array,** return *the new length of the array*.\n",
        "\n",
        "You must write an algorithm that uses only constant extra space.\n",
        "\n",
        "**Example 1:**\n",
        "\n",
        "**Input:** chars = [\"a\",\"a\",\"b\",\"b\",\"c\",\"c\",\"c\"]\n",
        "\n",
        "**Output:** Return 6, and the first 6 characters of the input array should be: [\"a\",\"2\",\"b\",\"2\",\"c\",\"3\"]\n",
        "\n",
        "**Explanation:**\n",
        "\n",
        "The groups are \"aa\", \"bb\", and \"ccc\". This compresses to \"a2b2c3\"\n",
        "\n",
        "</aside>"
      ],
      "metadata": {
        "id": "wzcdkwxbNtmn"
      }
    },
    {
      "cell_type": "code",
      "source": [
        "def compress(chars):\n",
        "    n = len(chars)\n",
        "    i = 0\n",
        "    j = 0\n",
        "    while i < n:\n",
        "        char = chars[i]\n",
        "        count = 1\n",
        "\n",
        "        while i + 1 < n and chars[i + 1] == char:\n",
        "            count += 1\n",
        "            i += 1\n",
        "\n",
        "        chars[j] = char\n",
        "        j += 1\n",
        "\n",
        "        if count > 1:\n",
        "            count_str = str(count)\n",
        "            for digit in count_str:\n",
        "                chars[j] = digit\n",
        "                j += 1\n",
        "\n",
        "        i += 1\n",
        "\n",
        "    return j\n",
        "\n",
        "chars = [\"a\", \"a\", \"b\", \"b\", \"c\", \"c\", \"c\"]\n",
        "new_length = compress(chars)\n",
        "print('new_length:',new_length)\n",
        "print(chars[:new_length])"
      ],
      "metadata": {
        "id": "2sdQJiMdNsTx",
        "colab": {
          "base_uri": "https://localhost:8080/"
        },
        "outputId": "2ad6c72b-eae3-475e-a2f7-def903e08b6f"
      },
      "execution_count": null,
      "outputs": [
        {
          "output_type": "stream",
          "name": "stdout",
          "text": [
            "new_length: 6\n",
            "['a', '2', 'b', '2', 'c', '3']\n"
          ]
        }
      ]
    },
    {
      "cell_type": "code",
      "source": [],
      "metadata": {
        "id": "irs_PUWv7bKE"
      },
      "execution_count": null,
      "outputs": []
    },
    {
      "cell_type": "markdown",
      "source": [
        "<aside>\n",
        "💡 **Question 6**\n",
        "\n",
        "Given two strings s and p, return *an array of all the start indices of* p*'s anagrams in* s. You may return the answer in **any order**.\n",
        "\n",
        "An **Anagram** is a word or phrase formed by rearranging the letters of a different word or phrase, typically using all the original letters exactly once.\n",
        "\n",
        "**Example 1:**\n",
        "\n",
        "**Input:** s = \"cbaebabacd\", p = \"abc\"\n",
        "\n",
        "**Output:** [0,6]\n",
        "\n",
        "**Explanation:**\n",
        "\n",
        "The substring with start index = 0 is \"cba\", which is an anagram of \"abc\".\n",
        "\n",
        "The substring with start index = 6 is \"bac\", which is an anagram of \"abc\".\n",
        "\n",
        "</aside>"
      ],
      "metadata": {
        "id": "NzE4gPS7NuBk"
      }
    },
    {
      "cell_type": "code",
      "source": [
        "from collections import Counter\n",
        "\n",
        "def findAnagrams(s, p):\n",
        "    result = []\n",
        "    p_len = len(p)\n",
        "    s_len = len(s)\n",
        "\n",
        "    if p_len > s_len:\n",
        "        return result\n",
        "\n",
        "    p_freq = Counter(p)\n",
        "    window_freq = Counter(s[:p_len])\n",
        "\n",
        "    if window_freq == p_freq:\n",
        "        result.append(0)\n",
        "\n",
        "    for i in range(1, s_len - p_len + 1):\n",
        "        window_freq[s[i - 1]] -= 1\n",
        "        if window_freq[s[i - 1]] == 0:\n",
        "            del window_freq[s[i - 1]]\n",
        "\n",
        "        window_freq[s[i + p_len - 1]] += 1\n",
        "\n",
        "        if window_freq == p_freq:\n",
        "            result.append(i)\n",
        "\n",
        "    return result\n",
        "\n",
        "s = \"cbaebabacd\"\n",
        "p = \"abc\"\n",
        "output = findAnagrams(s, p)\n",
        "print(output)"
      ],
      "metadata": {
        "id": "8277zDJrNuqH",
        "colab": {
          "base_uri": "https://localhost:8080/"
        },
        "outputId": "36fbf6c4-e93b-463c-d2bb-293ab604de2f"
      },
      "execution_count": null,
      "outputs": [
        {
          "output_type": "stream",
          "name": "stdout",
          "text": [
            "[0, 6]\n"
          ]
        }
      ]
    },
    {
      "cell_type": "code",
      "source": [],
      "metadata": {
        "id": "ip0ofjSO7aIl"
      },
      "execution_count": null,
      "outputs": []
    },
    {
      "cell_type": "markdown",
      "source": [
        "<aside>\n",
        "💡 **Question 7**\n",
        "\n",
        "Given an encoded string, return its decoded string.\n",
        "\n",
        "The encoding rule is: k[encoded_string], where the encoded_string inside the square brackets is being repeated exactly k times. Note that k is guaranteed to be a positive integer.\n",
        "\n",
        "You may assume that the input string is always valid; there are no extra white spaces, square brackets are well-formed, etc. Furthermore, you may assume that the original data does not contain any digits and that digits are only for those repeat numbers, k. For example, there will not be input like 3a or 2[4].\n",
        "\n",
        "The test cases are generated so that the length of the output will never exceed 105.\n",
        "\n",
        "**Example 1:**\n",
        "\n",
        "**Input:** s = \"3[a]2[bc]\"\n",
        "\n",
        "**Output:** \"aaabcbc\"\n",
        "\n",
        "</aside>"
      ],
      "metadata": {
        "id": "P73gUkQgNvrX"
      }
    },
    {
      "cell_type": "code",
      "source": [
        "def decodeString(s):\n",
        "    stack = []\n",
        "    curr_num = 0\n",
        "    curr_str = ''\n",
        "\n",
        "    for char in s:\n",
        "        if char.isdigit():\n",
        "            curr_num = curr_num * 10 + int(char)\n",
        "        elif char == '[':\n",
        "            stack.append(curr_str)\n",
        "            stack.append(curr_num)\n",
        "            curr_str = ''\n",
        "            curr_num = 0\n",
        "        elif char == ']':\n",
        "            num = stack.pop()\n",
        "            prev_str = stack.pop()\n",
        "            curr_str = prev_str + num * curr_str\n",
        "        else:\n",
        "            curr_str += char\n",
        "\n",
        "    return curr_str\n",
        "\n",
        "s = \"3[a]2[bc]\"\n",
        "decoded = decodeString(s)\n",
        "print(decoded)"
      ],
      "metadata": {
        "id": "e1fA-44XNvHJ",
        "colab": {
          "base_uri": "https://localhost:8080/"
        },
        "outputId": "a7d79de4-e225-4818-ebc1-706caab44a0a"
      },
      "execution_count": null,
      "outputs": [
        {
          "output_type": "stream",
          "name": "stdout",
          "text": [
            "aaabcbc\n"
          ]
        }
      ]
    },
    {
      "cell_type": "code",
      "source": [],
      "metadata": {
        "id": "EFV3-vNY2a_k"
      },
      "execution_count": null,
      "outputs": []
    },
    {
      "cell_type": "markdown",
      "source": [
        "<aside>\n",
        "💡 **Question 8**\n",
        "\n",
        "Given two strings s and goal, return true *if you can swap two letters in* s *so the result is equal to* goal*, otherwise, return* false*.*\n",
        "\n",
        "Swapping letters is defined as taking two indices i and j (0-indexed) such that i != j and swapping the characters at s[i] and s[j].\n",
        "\n",
        "- For example, swapping at indices 0 and 2 in \"abcd\" results in \"cbad\".\n",
        "\n",
        "**Example 1:**\n",
        "\n",
        "**Input:** s = \"ab\", goal = \"ba\"\n",
        "\n",
        "**Output:** true\n",
        "\n",
        "**Explanation:** You can swap s[0] = 'a' and s[1] = 'b' to get \"ba\", which is equal to goal.\n",
        "\n",
        "</aside>"
      ],
      "metadata": {
        "id": "KTmU-C0qORGy"
      }
    },
    {
      "cell_type": "code",
      "source": [
        "def swap(s,goal):\n",
        "  if len(s) != len(goal):\n",
        "    return False\n",
        "  else:\n",
        "    s=s[::-1]\n",
        "    if s==goal:\n",
        "      return True\n",
        "\n",
        "  return False\n",
        "\n",
        "s = \"ab\"\n",
        "goal = \"ba\"\n",
        "print(swap(s,goal))"
      ],
      "metadata": {
        "id": "o7AIl6cdORiQ",
        "colab": {
          "base_uri": "https://localhost:8080/"
        },
        "outputId": "0686ed06-ba57-499b-ff34-cae9f7d69c5d"
      },
      "execution_count": null,
      "outputs": [
        {
          "output_type": "stream",
          "name": "stdout",
          "text": [
            "True\n"
          ]
        }
      ]
    },
    {
      "cell_type": "code",
      "source": [],
      "metadata": {
        "id": "PKCXicWIytdl"
      },
      "execution_count": null,
      "outputs": []
    }
  ]
}